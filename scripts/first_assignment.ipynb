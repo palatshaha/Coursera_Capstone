
import pandas as pd
import numpy as np
ptint("Hello Capstone Project Course!")
